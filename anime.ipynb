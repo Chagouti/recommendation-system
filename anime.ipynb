{
 "cells": [
  {
   "cell_type": "code",
   "execution_count": 200,
   "id": "ec8de798",
   "metadata": {},
   "outputs": [
    {
     "data": {
      "text/html": [
       "<div>\n",
       "<style scoped>\n",
       "    .dataframe tbody tr th:only-of-type {\n",
       "        vertical-align: middle;\n",
       "    }\n",
       "\n",
       "    .dataframe tbody tr th {\n",
       "        vertical-align: top;\n",
       "    }\n",
       "\n",
       "    .dataframe thead th {\n",
       "        text-align: right;\n",
       "    }\n",
       "</style>\n",
       "<table border=\"1\" class=\"dataframe\">\n",
       "  <thead>\n",
       "    <tr style=\"text-align: right;\">\n",
       "      <th></th>\n",
       "      <th>Unnamed: 0</th>\n",
       "      <th>index</th>\n",
       "      <th>Title</th>\n",
       "      <th>genres</th>\n",
       "      <th>overview</th>\n",
       "      <th>Poster</th>\n",
       "    </tr>\n",
       "  </thead>\n",
       "  <tbody>\n",
       "    <tr>\n",
       "      <th>0</th>\n",
       "      <td>0</td>\n",
       "      <td>0</td>\n",
       "      <td>Attack on Titan The Final Season: The Final Ch...</td>\n",
       "      <td>, Action , Drama , Fantasy , Shounen , Dark F...</td>\n",
       "      <td>Final part ofAttack on Titan The Final Season.</td>\n",
       "      <td>https://cdn.anime-planet.com/anime/primary/att...</td>\n",
       "    </tr>\n",
       "    <tr>\n",
       "      <th>1</th>\n",
       "      <td>1</td>\n",
       "      <td>1</td>\n",
       "      <td>Fullmetal Alchemist: Brotherhood</td>\n",
       "      <td>, Action , Adventure , Drama , Fantasy , Myst...</td>\n",
       "      <td>The foundation of alchemy is based on the law ...</td>\n",
       "      <td>https://cdn.anime-planet.com/anime/primary/ful...</td>\n",
       "    </tr>\n",
       "    <tr>\n",
       "      <th>2</th>\n",
       "      <td>2</td>\n",
       "      <td>2</td>\n",
       "      <td>Fruits Basket the Final Season</td>\n",
       "      <td>, Drama , Fantasy , Romance , Shoujo , Animal...</td>\n",
       "      <td>The final arc ofFruits Basket.</td>\n",
       "      <td>https://cdn.anime-planet.com/anime/primary/fru...</td>\n",
       "    </tr>\n",
       "    <tr>\n",
       "      <th>3</th>\n",
       "      <td>3</td>\n",
       "      <td>3</td>\n",
       "      <td>Demon Slayer: Kimetsu no Yaiba - Entertainment...</td>\n",
       "      <td>, Action , Adventure , Shounen , Demons , His...</td>\n",
       "      <td>Tanjiro and his friends accompany the Hashira ...</td>\n",
       "      <td>https://cdn.anime-planet.com/anime/primary/dem...</td>\n",
       "    </tr>\n",
       "    <tr>\n",
       "      <th>4</th>\n",
       "      <td>4</td>\n",
       "      <td>4</td>\n",
       "      <td>Mo Dao Zu Shi 3</td>\n",
       "      <td>, Fantasy , Ancient China , Chinese Animation...</td>\n",
       "      <td>The third season ofMo Dao Zu Shi.</td>\n",
       "      <td>https://cdn.anime-planet.com/anime/primary/mo-...</td>\n",
       "    </tr>\n",
       "  </tbody>\n",
       "</table>\n",
       "</div>"
      ],
      "text/plain": [
       "   Unnamed: 0  ...                                             Poster\n",
       "0           0  ...  https://cdn.anime-planet.com/anime/primary/att...\n",
       "1           1  ...  https://cdn.anime-planet.com/anime/primary/ful...\n",
       "2           2  ...  https://cdn.anime-planet.com/anime/primary/fru...\n",
       "3           3  ...  https://cdn.anime-planet.com/anime/primary/dem...\n",
       "4           4  ...  https://cdn.anime-planet.com/anime/primary/mo-...\n",
       "\n",
       "[5 rows x 6 columns]"
      ]
     },
     "execution_count": 200,
     "metadata": {},
     "output_type": "execute_result"
    }
   ],
   "source": [
    "import pandas as pd\n",
    "data3=pd.read_csv('anime_planet.csv')\n",
    "data3.head()"
   ]
  },
  {
   "cell_type": "code",
   "execution_count": 204,
   "id": "0d6a8e07",
   "metadata": {},
   "outputs": [],
   "source": [
    "#data3=data3[['anime_title','anime_overview','anime_genres','anime_poster']]\n",
    "data3=data3[['Title','overview','genres','Poster']]"
   ]
  },
  {
   "cell_type": "code",
   "execution_count": 205,
   "id": "87696ee4",
   "metadata": {},
   "outputs": [
    {
     "data": {
      "text/plain": [
       "'Attack on Titan The Final Season: The Final ChaptersFinal part ofAttack on Titan The Final Season. , Action , Drama , Fantasy , Shounen , Dark Fantasy , Military , War , Based on a Manga'"
      ]
     },
     "execution_count": 205,
     "metadata": {},
     "output_type": "execute_result"
    }
   ],
   "source": [
    "data3['tags']=data3['Title']+data3['overview']+data3['genres']\n",
    "data3['tags']=data3['tags'].str.strip()\n",
    "data3['tags'][0]"
   ]
  },
  {
   "cell_type": "code",
   "execution_count": 206,
   "id": "1d4ab7a3",
   "metadata": {},
   "outputs": [
    {
     "data": {
      "text/html": [
       "<div>\n",
       "<style scoped>\n",
       "    .dataframe tbody tr th:only-of-type {\n",
       "        vertical-align: middle;\n",
       "    }\n",
       "\n",
       "    .dataframe tbody tr th {\n",
       "        vertical-align: top;\n",
       "    }\n",
       "\n",
       "    .dataframe thead th {\n",
       "        text-align: right;\n",
       "    }\n",
       "</style>\n",
       "<table border=\"1\" class=\"dataframe\">\n",
       "  <thead>\n",
       "    <tr style=\"text-align: right;\">\n",
       "      <th></th>\n",
       "      <th>title</th>\n",
       "      <th>tags</th>\n",
       "      <th>Poster</th>\n",
       "    </tr>\n",
       "  </thead>\n",
       "  <tbody>\n",
       "    <tr>\n",
       "      <th>0</th>\n",
       "      <td>Attack on Titan The Final Season: The Final Ch...</td>\n",
       "      <td>Attack on Titan The Final Season: The Final Ch...</td>\n",
       "      <td>https://cdn.anime-planet.com/anime/primary/att...</td>\n",
       "    </tr>\n",
       "    <tr>\n",
       "      <th>1</th>\n",
       "      <td>Fullmetal Alchemist: Brotherhood</td>\n",
       "      <td>Fullmetal Alchemist: BrotherhoodThe foundation...</td>\n",
       "      <td>https://cdn.anime-planet.com/anime/primary/ful...</td>\n",
       "    </tr>\n",
       "    <tr>\n",
       "      <th>2</th>\n",
       "      <td>Fruits Basket the Final Season</td>\n",
       "      <td>Fruits Basket the Final SeasonThe final arc of...</td>\n",
       "      <td>https://cdn.anime-planet.com/anime/primary/fru...</td>\n",
       "    </tr>\n",
       "    <tr>\n",
       "      <th>3</th>\n",
       "      <td>Demon Slayer: Kimetsu no Yaiba - Entertainment...</td>\n",
       "      <td>Demon Slayer: Kimetsu no Yaiba - Entertainment...</td>\n",
       "      <td>https://cdn.anime-planet.com/anime/primary/dem...</td>\n",
       "    </tr>\n",
       "    <tr>\n",
       "      <th>4</th>\n",
       "      <td>Mo Dao Zu Shi 3</td>\n",
       "      <td>Mo Dao Zu Shi 3The third season ofMo Dao Zu Sh...</td>\n",
       "      <td>https://cdn.anime-planet.com/anime/primary/mo-...</td>\n",
       "    </tr>\n",
       "  </tbody>\n",
       "</table>\n",
       "</div>"
      ],
      "text/plain": [
       "                                               title  ...                                             Poster\n",
       "0  Attack on Titan The Final Season: The Final Ch...  ...  https://cdn.anime-planet.com/anime/primary/att...\n",
       "1                   Fullmetal Alchemist: Brotherhood  ...  https://cdn.anime-planet.com/anime/primary/ful...\n",
       "2                     Fruits Basket the Final Season  ...  https://cdn.anime-planet.com/anime/primary/fru...\n",
       "3  Demon Slayer: Kimetsu no Yaiba - Entertainment...  ...  https://cdn.anime-planet.com/anime/primary/dem...\n",
       "4                                    Mo Dao Zu Shi 3  ...  https://cdn.anime-planet.com/anime/primary/mo-...\n",
       "\n",
       "[5 rows x 3 columns]"
      ]
     },
     "execution_count": 206,
     "metadata": {},
     "output_type": "execute_result"
    }
   ],
   "source": [
    "data3['title']=data3['Title']\n",
    "new_data=data3.drop(columns=['overview','genres','Title'])\n",
    "new_data=new_data[['title','tags','Poster']]\n",
    "new_data.head()"
   ]
  },
  {
   "cell_type": "code",
   "execution_count": 207,
   "id": "aa0af31a",
   "metadata": {},
   "outputs": [
    {
     "data": {
      "text/html": [
       "<style>#sk-container-id-6 {color: black;background-color: white;}#sk-container-id-6 pre{padding: 0;}#sk-container-id-6 div.sk-toggleable {background-color: white;}#sk-container-id-6 label.sk-toggleable__label {cursor: pointer;display: block;width: 100%;margin-bottom: 0;padding: 0.3em;box-sizing: border-box;text-align: center;}#sk-container-id-6 label.sk-toggleable__label-arrow:before {content: \"▸\";float: left;margin-right: 0.25em;color: #696969;}#sk-container-id-6 label.sk-toggleable__label-arrow:hover:before {color: black;}#sk-container-id-6 div.sk-estimator:hover label.sk-toggleable__label-arrow:before {color: black;}#sk-container-id-6 div.sk-toggleable__content {max-height: 0;max-width: 0;overflow: hidden;text-align: left;background-color: #f0f8ff;}#sk-container-id-6 div.sk-toggleable__content pre {margin: 0.2em;color: black;border-radius: 0.25em;background-color: #f0f8ff;}#sk-container-id-6 input.sk-toggleable__control:checked~div.sk-toggleable__content {max-height: 200px;max-width: 100%;overflow: auto;}#sk-container-id-6 input.sk-toggleable__control:checked~label.sk-toggleable__label-arrow:before {content: \"▾\";}#sk-container-id-6 div.sk-estimator input.sk-toggleable__control:checked~label.sk-toggleable__label {background-color: #d4ebff;}#sk-container-id-6 div.sk-label input.sk-toggleable__control:checked~label.sk-toggleable__label {background-color: #d4ebff;}#sk-container-id-6 input.sk-hidden--visually {border: 0;clip: rect(1px 1px 1px 1px);clip: rect(1px, 1px, 1px, 1px);height: 1px;margin: -1px;overflow: hidden;padding: 0;position: absolute;width: 1px;}#sk-container-id-6 div.sk-estimator {font-family: monospace;background-color: #f0f8ff;border: 1px dotted black;border-radius: 0.25em;box-sizing: border-box;margin-bottom: 0.5em;}#sk-container-id-6 div.sk-estimator:hover {background-color: #d4ebff;}#sk-container-id-6 div.sk-parallel-item::after {content: \"\";width: 100%;border-bottom: 1px solid gray;flex-grow: 1;}#sk-container-id-6 div.sk-label:hover label.sk-toggleable__label {background-color: #d4ebff;}#sk-container-id-6 div.sk-serial::before {content: \"\";position: absolute;border-left: 1px solid gray;box-sizing: border-box;top: 0;bottom: 0;left: 50%;z-index: 0;}#sk-container-id-6 div.sk-serial {display: flex;flex-direction: column;align-items: center;background-color: white;padding-right: 0.2em;padding-left: 0.2em;position: relative;}#sk-container-id-6 div.sk-item {position: relative;z-index: 1;}#sk-container-id-6 div.sk-parallel {display: flex;align-items: stretch;justify-content: center;background-color: white;position: relative;}#sk-container-id-6 div.sk-item::before, #sk-container-id-6 div.sk-parallel-item::before {content: \"\";position: absolute;border-left: 1px solid gray;box-sizing: border-box;top: 0;bottom: 0;left: 50%;z-index: -1;}#sk-container-id-6 div.sk-parallel-item {display: flex;flex-direction: column;z-index: 1;position: relative;background-color: white;}#sk-container-id-6 div.sk-parallel-item:first-child::after {align-self: flex-end;width: 50%;}#sk-container-id-6 div.sk-parallel-item:last-child::after {align-self: flex-start;width: 50%;}#sk-container-id-6 div.sk-parallel-item:only-child::after {width: 0;}#sk-container-id-6 div.sk-dashed-wrapped {border: 1px dashed gray;margin: 0 0.4em 0.5em 0.4em;box-sizing: border-box;padding-bottom: 0.4em;background-color: white;}#sk-container-id-6 div.sk-label label {font-family: monospace;font-weight: bold;display: inline-block;line-height: 1.2em;}#sk-container-id-6 div.sk-label-container {text-align: center;}#sk-container-id-6 div.sk-container {/* jupyter's `normalize.less` sets `[hidden] { display: none; }` but bootstrap.min.css set `[hidden] { display: none !important; }` so we also need the `!important` here to be able to override the default hidden behavior on the sphinx rendered scikit-learn.org. See: https://github.com/scikit-learn/scikit-learn/issues/21755 */display: inline-block !important;position: relative;}#sk-container-id-6 div.sk-text-repr-fallback {display: none;}</style><div id=\"sk-container-id-6\" class=\"sk-top-container\"><div class=\"sk-text-repr-fallback\"><pre>CountVectorizer(max_features=12248, stop_words=&#x27;english&#x27;)</pre><b>In a Jupyter environment, please rerun this cell to show the HTML representation or trust the notebook. <br />On GitHub, the HTML representation is unable to render, please try loading this page with nbviewer.org.</b></div><div class=\"sk-container\" hidden><div class=\"sk-item\"><div class=\"sk-estimator sk-toggleable\"><input class=\"sk-toggleable__control sk-hidden--visually\" id=\"sk-estimator-id-6\" type=\"checkbox\" checked><label for=\"sk-estimator-id-6\" class=\"sk-toggleable__label sk-toggleable__label-arrow\">CountVectorizer</label><div class=\"sk-toggleable__content\"><pre>CountVectorizer(max_features=12248, stop_words=&#x27;english&#x27;)</pre></div></div></div></div></div>"
      ],
      "text/plain": [
       "CountVectorizer(max_features=12248, stop_words='english')"
      ]
     },
     "execution_count": 207,
     "metadata": {},
     "output_type": "execute_result"
    }
   ],
   "source": [
    "from sklearn.feature_extraction.text import CountVectorizer\n",
    "cv=CountVectorizer(max_features=12248, stop_words='english')\n",
    "cv\n"
   ]
  },
  {
   "cell_type": "code",
   "execution_count": 208,
   "id": "70d5c4bf",
   "metadata": {},
   "outputs": [
    {
     "data": {
      "text/plain": [
       "(3500, 12248)"
      ]
     },
     "execution_count": 208,
     "metadata": {},
     "output_type": "execute_result"
    }
   ],
   "source": [
    "vector=cv.fit_transform(new_data['tags'].values.astype('U')).toarray()\n",
    "vector.shape"
   ]
  },
  {
   "cell_type": "code",
   "execution_count": 209,
   "id": "b7d91001",
   "metadata": {},
   "outputs": [
    {
     "data": {
      "text/plain": [
       "3500"
      ]
     },
     "execution_count": 209,
     "metadata": {},
     "output_type": "execute_result"
    }
   ],
   "source": [
    "from sklearn.metrics.pairwise import cosine_similarity\n",
    "similarity=cosine_similarity(vector)\n",
    "len(similarity[0])"
   ]
  },
  {
   "cell_type": "code",
   "execution_count": 210,
   "id": "6e264de9",
   "metadata": {},
   "outputs": [
    {
     "data": {
      "text/html": [
       "<div>\n",
       "<style scoped>\n",
       "    .dataframe tbody tr th:only-of-type {\n",
       "        vertical-align: middle;\n",
       "    }\n",
       "\n",
       "    .dataframe tbody tr th {\n",
       "        vertical-align: top;\n",
       "    }\n",
       "\n",
       "    .dataframe thead th {\n",
       "        text-align: right;\n",
       "    }\n",
       "</style>\n",
       "<table border=\"1\" class=\"dataframe\">\n",
       "  <thead>\n",
       "    <tr style=\"text-align: right;\">\n",
       "      <th></th>\n",
       "      <th>title</th>\n",
       "      <th>tags</th>\n",
       "      <th>Poster</th>\n",
       "    </tr>\n",
       "  </thead>\n",
       "  <tbody>\n",
       "    <tr>\n",
       "      <th>893</th>\n",
       "      <td>Naruto</td>\n",
       "      <td>NarutoNaruto Uzumaki is a young ninja who bear...</td>\n",
       "      <td>https://cdn.anime-planet.com/anime/primary/nar...</td>\n",
       "    </tr>\n",
       "  </tbody>\n",
       "</table>\n",
       "</div>"
      ],
      "text/plain": [
       "      title                                               tags                                             Poster\n",
       "893  Naruto  NarutoNaruto Uzumaki is a young ninja who bear...  https://cdn.anime-planet.com/anime/primary/nar..."
      ]
     },
     "execution_count": 210,
     "metadata": {},
     "output_type": "execute_result"
    }
   ],
   "source": [
    "new_data[new_data['title']=='Naruto']\n"
   ]
  },
  {
   "cell_type": "code",
   "execution_count": 211,
   "id": "101e1997",
   "metadata": {},
   "outputs": [
    {
     "name": "stdout",
     "output_type": "stream",
     "text": [
      "Naruto\n",
      "Naruto Shippuden Movie 3: The Will of Fire\n",
      "Naruto Shippuden\n",
      "Naruto Shippuden Movie 4: The Lost Tower\n",
      "Naruto Shippuden Movie 2: Bonds\n",
      "Boruto: Naruto the Movie - The Day Naruto Became Hokage\n",
      "Naruto Shippuden Movie 5: Blood Prison\n",
      "Naruto Shippuden OVA: Sage Naruto vs Sasuke\n",
      "Naruto Shippuden Movie 6: Road to Ninja\n",
      "Naruto Shippuden: Sunny Side Battle!\n"
     ]
    }
   ],
   "source": [
    "distance = sorted(list(enumerate(similarity[893])), reverse=True, key=lambda vector:vector[1])\n",
    "for i in distance[0:10]:\n",
    "    print(new_data.iloc[i[0]].title)"
   ]
  },
  {
   "cell_type": "code",
   "execution_count": 212,
   "id": "2cc51df2",
   "metadata": {},
   "outputs": [
    {
     "data": {
      "text/plain": [
       "(3500, 14603)"
      ]
     },
     "execution_count": 212,
     "metadata": {},
     "output_type": "execute_result"
    }
   ],
   "source": [
    "#Import TfIdfVectorizer from scikit-learn\n",
    "from sklearn.feature_extraction.text import TfidfVectorizer\n",
    "\n",
    "#Define a TF-IDF Vectorizer Object. Remove all english stop words such as 'the', 'a'\n",
    "tfidf = TfidfVectorizer(stop_words='english')\n",
    "\n",
    "#Replace NaN with an empty string\n",
    "new_data['tags'] = new_data['tags'].fillna('')\n",
    "\n",
    "#Construct the required TF-IDF matrix by fitting and transforming the data\n",
    "tfidf_matrix = tfidf.fit_transform(new_data['tags'])\n",
    "\n",
    "#Output the shape of tfidf_matrix\n",
    "tfidf_matrix.shape"
   ]
  },
  {
   "cell_type": "code",
   "execution_count": 213,
   "id": "f8a5afd1",
   "metadata": {},
   "outputs": [],
   "source": [
    "# Import linear_kernel\n",
    "from sklearn.metrics.pairwise import linear_kernel\n",
    "\n",
    "# Compute the cosine similarity matrix\n",
    "cosine_sim = linear_kernel(tfidf_matrix, tfidf_matrix)\n",
    "#Construct a reverse map of indices and movie titles\n",
    "indices = pd.Series(new_data.index, index=new_data['title']).drop_duplicates()"
   ]
  },
  {
   "cell_type": "code",
   "execution_count": 214,
   "id": "33c48b0c",
   "metadata": {},
   "outputs": [],
   "source": [
    "# Function that takes in movie title as input and outputs most similar movies\n",
    "def get_recommendations(title, cosine_sim=cosine_sim):\n",
    "    # Get the index of the movie that matches the title\n",
    "    idx = indices[title]\n",
    "\n",
    "    # Get the pairwsie similarity scores of all movies with that movie\n",
    "    sim_scores = list(enumerate(cosine_sim[idx]))\n",
    "\n",
    "    # Sort the movies based on the similarity scores\n",
    "    sim_scores = sorted(sim_scores, key=lambda x: x[1], reverse=True)\n",
    "\n",
    "    # Get the scores of the 10 most similar movies\n",
    "    sim_scores = sim_scores[1:11]\n",
    "\n",
    "    # Get the movie indices\n",
    "    movie_indices = [i[0] for i in sim_scores]\n",
    "\n",
    "    # Return the top 10 most similar movies\n",
    "    return new_data['title'].iloc[movie_indices]"
   ]
  },
  {
   "cell_type": "code",
   "execution_count": 215,
   "id": "2eccbaee",
   "metadata": {},
   "outputs": [
    {
     "data": {
      "text/plain": [
       "275                                      Naruto Shippuden\n",
       "1427    Boruto: Naruto the Movie - The Day Naruto Beca...\n",
       "1867             Naruto Shippuden Movie 4: The Lost Tower\n",
       "2061           Naruto Shippuden Movie 3: The Will of Fire\n",
       "2421                      Naruto Shippuden Movie 2: Bonds\n",
       "1606                 Naruto Shippuden: Sunny Side Battle!\n",
       "852               Naruto Shippuden Movie 6: Road to Ninja\n",
       "1456               Naruto Shippuden Movie 5: Blood Prison\n",
       "2643          Naruto Shippuden OVA: Sage Naruto vs Sasuke\n",
       "2310                             Naruto Shippuden Movie 1\n",
       "Name: title, dtype: object"
      ]
     },
     "execution_count": 215,
     "metadata": {},
     "output_type": "execute_result"
    }
   ],
   "source": [
    "get_recommendations('Naruto')"
   ]
  },
  {
   "cell_type": "code",
   "execution_count": 216,
   "id": "450b55a1",
   "metadata": {},
   "outputs": [
    {
     "data": {
      "text/html": [
       "<div>\n",
       "<style scoped>\n",
       "    .dataframe tbody tr th:only-of-type {\n",
       "        vertical-align: middle;\n",
       "    }\n",
       "\n",
       "    .dataframe tbody tr th {\n",
       "        vertical-align: top;\n",
       "    }\n",
       "\n",
       "    .dataframe thead th {\n",
       "        text-align: right;\n",
       "    }\n",
       "</style>\n",
       "<table border=\"1\" class=\"dataframe\">\n",
       "  <thead>\n",
       "    <tr style=\"text-align: right;\">\n",
       "      <th></th>\n",
       "      <th>title</th>\n",
       "      <th>tags</th>\n",
       "      <th>Poster</th>\n",
       "    </tr>\n",
       "  </thead>\n",
       "  <tbody>\n",
       "    <tr>\n",
       "      <th>0</th>\n",
       "      <td>Attack on Titan The Final Season: The Final Ch...</td>\n",
       "      <td>Attack on Titan The Final Season: The Final Ch...</td>\n",
       "      <td>https://cdn.anime-planet.com/anime/primary/att...</td>\n",
       "    </tr>\n",
       "    <tr>\n",
       "      <th>1</th>\n",
       "      <td>Fullmetal Alchemist: Brotherhood</td>\n",
       "      <td>Fullmetal Alchemist: BrotherhoodThe foundation...</td>\n",
       "      <td>https://cdn.anime-planet.com/anime/primary/ful...</td>\n",
       "    </tr>\n",
       "    <tr>\n",
       "      <th>2</th>\n",
       "      <td>Fruits Basket the Final Season</td>\n",
       "      <td>Fruits Basket the Final SeasonThe final arc of...</td>\n",
       "      <td>https://cdn.anime-planet.com/anime/primary/fru...</td>\n",
       "    </tr>\n",
       "    <tr>\n",
       "      <th>3</th>\n",
       "      <td>Demon Slayer: Kimetsu no Yaiba - Entertainment...</td>\n",
       "      <td>Demon Slayer: Kimetsu no Yaiba - Entertainment...</td>\n",
       "      <td>https://cdn.anime-planet.com/anime/primary/dem...</td>\n",
       "    </tr>\n",
       "    <tr>\n",
       "      <th>4</th>\n",
       "      <td>Mo Dao Zu Shi 3</td>\n",
       "      <td>Mo Dao Zu Shi 3The third season ofMo Dao Zu Sh...</td>\n",
       "      <td>https://cdn.anime-planet.com/anime/primary/mo-...</td>\n",
       "    </tr>\n",
       "    <tr>\n",
       "      <th>...</th>\n",
       "      <td>...</td>\n",
       "      <td>...</td>\n",
       "      <td>...</td>\n",
       "    </tr>\n",
       "    <tr>\n",
       "      <th>3495</th>\n",
       "      <td>Doranana x Kirara Magic: Doranana</td>\n",
       "      <td>Doranana x Kirara Magic: DorananaThe offiical ...</td>\n",
       "      <td>https://cdn.anime-planet.com/anime/primary/dor...</td>\n",
       "    </tr>\n",
       "    <tr>\n",
       "      <th>3496</th>\n",
       "      <td>Owarimonogatari II Recaps</td>\n",
       "      <td>Owarimonogatari II RecapsNo synopsis yet - che...</td>\n",
       "      <td>https://cdn.anime-planet.com/anime/primary/owa...</td>\n",
       "    </tr>\n",
       "    <tr>\n",
       "      <th>3497</th>\n",
       "      <td>Jang Geum Ieui Kkum 2</td>\n",
       "      <td>Jang Geum Ieui Kkum 2No synopsis yet - check b...</td>\n",
       "      <td>https://cdn.anime-planet.com/images/anime/defa...</td>\n",
       "    </tr>\n",
       "    <tr>\n",
       "      <th>3498</th>\n",
       "      <td>Sengoku Night Blood: Ongaku Dai Tokushuu</td>\n",
       "      <td>Sengoku Night Blood: Ongaku Dai TokushuuNo syn...</td>\n",
       "      <td>https://cdn.anime-planet.com/anime/primary/sen...</td>\n",
       "    </tr>\n",
       "    <tr>\n",
       "      <th>3499</th>\n",
       "      <td>Joshiraku</td>\n",
       "      <td></td>\n",
       "      <td>https://cdn.anime-planet.com/anime/primary/jos...</td>\n",
       "    </tr>\n",
       "  </tbody>\n",
       "</table>\n",
       "<p>3500 rows × 3 columns</p>\n",
       "</div>"
      ],
      "text/plain": [
       "                                                  title  ...                                             Poster\n",
       "0     Attack on Titan The Final Season: The Final Ch...  ...  https://cdn.anime-planet.com/anime/primary/att...\n",
       "1                      Fullmetal Alchemist: Brotherhood  ...  https://cdn.anime-planet.com/anime/primary/ful...\n",
       "2                        Fruits Basket the Final Season  ...  https://cdn.anime-planet.com/anime/primary/fru...\n",
       "3     Demon Slayer: Kimetsu no Yaiba - Entertainment...  ...  https://cdn.anime-planet.com/anime/primary/dem...\n",
       "4                                       Mo Dao Zu Shi 3  ...  https://cdn.anime-planet.com/anime/primary/mo-...\n",
       "...                                                 ...  ...                                                ...\n",
       "3495                  Doranana x Kirara Magic: Doranana  ...  https://cdn.anime-planet.com/anime/primary/dor...\n",
       "3496                          Owarimonogatari II Recaps  ...  https://cdn.anime-planet.com/anime/primary/owa...\n",
       "3497                              Jang Geum Ieui Kkum 2  ...  https://cdn.anime-planet.com/images/anime/defa...\n",
       "3498           Sengoku Night Blood: Ongaku Dai Tokushuu  ...  https://cdn.anime-planet.com/anime/primary/sen...\n",
       "3499                                          Joshiraku  ...  https://cdn.anime-planet.com/anime/primary/jos...\n",
       "\n",
       "[3500 rows x 3 columns]"
      ]
     },
     "execution_count": 216,
     "metadata": {},
     "output_type": "execute_result"
    }
   ],
   "source": [
    "import pickle\n",
    "pickle.dump(new_data, open('anime.pkl', 'wb'))\n",
    "pickle.dump(cosine_sim, open('similarity.pkl', 'wb'))\n",
    "pickle.load(open('anime.pkl', 'rb'))"
   ]
  },
  {
   "cell_type": "code",
   "execution_count": null,
   "id": "b5f771e4",
   "metadata": {},
   "outputs": [],
   "source": []
  }
 ],
 "metadata": {
  "kernelspec": {
   "display_name": "Python 3 (ipykernel)",
   "language": "python",
   "name": "python3"
  },
  "language_info": {
   "codemirror_mode": {
    "name": "ipython",
    "version": 3
   },
   "file_extension": ".py",
   "mimetype": "text/x-python",
   "name": "python",
   "nbconvert_exporter": "python",
   "pygments_lexer": "ipython3",
   "version": "3.11.3"
  }
 },
 "nbformat": 4,
 "nbformat_minor": 5
}
